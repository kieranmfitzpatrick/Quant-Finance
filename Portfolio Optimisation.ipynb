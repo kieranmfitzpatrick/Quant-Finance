{
 "cells": [
  {
   "cell_type": "markdown",
   "metadata": {},
   "source": [
    "# Question 1"
   ]
  },
  {
   "cell_type": "markdown",
   "metadata": {},
   "source": [
    "## Q1.1"
   ]
  },
  {
   "cell_type": "markdown",
   "metadata": {},
   "source": [
    "This is an optimization problem for constructing a minimum variance portfolio with a target return m. To solve this, we need to minimize the portfolio variance subject to the constraints that the portfolio weights sum to 1(fully invested) and that the expected return of the portfolio equals the target return m. \n",
    "\n",
    "\n",
    "The optimization problem is formulated mathematically as:\n",
    "\n",
    "\n",
    "\n",
    "\\begin{aligned}\n",
    "& \\underset{w}{\\text{argmin}}\\ \\frac{1}{2} w^T \\Sigma w \\\\\n",
    "& \\text{s.t.} \n",
    "\\quad w^T \\mathbf{1} = 1, \\\\\n",
    "& \\mu_{\\pi} = w^T \\mu = m\n",
    "\\end{aligned}\n",
    "\n",
    "\n",
    " We formulate the Lagrangian function by incorporating the constraints into the objective function using Lagrange multipliers. In this case, we have two constraints: the sum of the weights equals 1, and the expected return of the portfolio equals the target return \n",
    "m.\n",
    "\n",
    "We'll use λ and γ as the Lagrange multipliers: The Lagrangian L for the optimization problem is :\n",
    "\n",
    "$$ L(w, \\alpha, \\gamma) = \\frac{1}{2}w^T\\Sigma w - \\lambda(m - w^T\\mu) - \\gamma( 1 -w^T1) $$\n",
    "\n",
    "Where:\n",
    "- $w$ is the vector of portfolio weights.\n",
    "- $\\Sigma$ is the covariance matrix of the asset returns.\n",
    "- $\\lambda$ and $\\gamma$ are the Lagrange multipliers.\n",
    "- $\\mu$ is the vector of expected returns for the assets.\n",
    "- $m$ is the target return for the portfolio.\n",
    "- $1$ is a vector of ones.\n",
    "\n",
    "\n",
    " Take the partial derivatives of L with respect to the weights w and set them equal to zero to find the minimum. We also differentiate with respect to λ and γ to enforce the constraints:\n",
    "\n",
    "$$\\frac{\\partial \\mathcal{L}}{\\partial \\mathbf{w}} (\\mathbf{w}, \\lambda, \\gamma) = \\mathbf{w} \\Sigma - \\lambda \\boldsymbol{\\mu} - \\gamma \\mathbf{1} = 0$$\n",
    "$$ \\frac{\\partial L}{\\partial \\lambda} (w, \\lambda, \\gamma) = m - w^T\\mu  = 0 $$\n",
    "$$ \\frac{\\partial L}{\\partial \\gamma} (w, \\lambda, \\gamma) = 1 - 1^Tw = 0 $$\n",
    "\n",
    "We solve this system of equations to determine the optimal weights w for the portfolio given the target return m, using the covariance matrix Σ and the vector of expected returns μ.The covariance matrix Σ represents the inter-relationships between the returns of different assets, which is crucial for understanding the combined risk of a portfolio. It’s needed in portfolio optimization to determine how the assets move together and how their combination can minimize the overall portfolio risk. \n",
    "\n",
    "To obtain Σ from standard deviation and the correlation matrix R, you use:\n",
    "$\\Sigma = SRS$.\n",
    "\n"
   ]
  },
  {
   "cell_type": "markdown",
   "metadata": {},
   "source": [
    "The analytical solution for w∗ optimal allocations can be written as: \n",
    "\n",
    "$$ w^* = \\Sigma^{-1}(\\lambda \\mu + \\gamma 1) $$\n",
    "\n",
    "where\n",
    "$$\n",
    "\\begin{align}\n",
    "\\lambda &= \\frac{Am - B}{AC - B^2}\\\\\n",
    "\n",
    "\\gamma &= \\frac{C - Bm}{AC - B^2}\n",
    "\\end{align}\n",
    "$$\n",
    "\n",
    "and\n",
    "\n",
    "$$\n",
    "\\begin{align}\n",
    "A &= 1^T (\\Sigma)^{-1} \\\\\n",
    "\n",
    "B &= \\mu^T (\\Sigma)^{-1} \\\\\n",
    " \n",
    "C &= \\mu^T (\\Sigma)^{-1} \\mu\n",
    "\\end{align}\n",
    "$$"
   ]
  },
  {
   "cell_type": "markdown",
   "metadata": {},
   "source": [
    "Compute allocations w∗ and portfolio risk σΠ =\n",
    "√\n",
    "w′Σw, for m = 4.5%"
   ]
  },
  {
   "cell_type": "code",
   "execution_count": 34,
   "metadata": {},
   "outputs": [],
   "source": [
    "# Import Libraries\n",
    "\n",
    "import numpy as np\n",
    "import pandas as pd"
   ]
  },
  {
   "cell_type": "code",
   "execution_count": 35,
   "metadata": {},
   "outputs": [],
   "source": [
    "assets = ['Asset A', 'Asset B', 'Asset C', 'Asset D']\n",
    "\n",
    "# Given data\n",
    "mu = np.array([0.02, 0.07, 0.15, 0.20])  # Expected returns for assets A, B, C, D\n",
    "\n",
    "# Given standard deviations and correlation matrix R\n",
    "std_devs = np.array([0.05, 0.12, 0.17, 0.25])\n",
    "R = np.array([\n",
    "    [1, 0.3, 0.3, 0.3],\n",
    "    [0.3, 1, 0.6, 0.6],\n",
    "    [0.3, 0.6, 1, 0.6],\n",
    "    [0.3, 0.6, 0.6, 1]\n",
    "])\n"
   ]
  },
  {
   "cell_type": "code",
   "execution_count": 36,
   "metadata": {},
   "outputs": [],
   "source": [
    "# Target return\n",
    "m = 0.045"
   ]
  },
  {
   "cell_type": "code",
   "execution_count": 37,
   "metadata": {},
   "outputs": [
    {
     "data": {
      "text/plain": [
       "array([[0.0025 , 0.0018 , 0.00255, 0.00375],\n",
       "       [0.0018 , 0.0144 , 0.01224, 0.018  ],\n",
       "       [0.00255, 0.01224, 0.0289 , 0.0255 ],\n",
       "       [0.00375, 0.018  , 0.0255 , 0.0625 ]])"
      ]
     },
     "execution_count": 37,
     "metadata": {},
     "output_type": "execute_result"
    }
   ],
   "source": [
    "# The covariance matrix is constructed from the volatilities and the correlation matrix, Sigma = SRS\n",
    "Sigma = np.outer(std_devs, std_devs) * R\n",
    "Sigma"
   ]
  },
  {
   "cell_type": "code",
   "execution_count": 38,
   "metadata": {},
   "outputs": [],
   "source": [
    "# Vector of ones, four ones\n",
    "ones = np.ones(len(mu))"
   ]
  },
  {
   "cell_type": "markdown",
   "metadata": {},
   "source": [
    " To find the Lagrange multipliers, we set up the following linear system (from earlier discussion):\n",
    " \n",
    " | 1^T Σ^-1 1  1^T Σ^-1 μ | | λ |  = | 1 |\n",
    " \n",
    " | μ^T Σ^-1 1  μ^T Σ^-1 μ | | γ | = | m |"
   ]
  },
  {
   "cell_type": "code",
   "execution_count": 39,
   "metadata": {},
   "outputs": [
    {
     "data": {
      "text/plain": [
       "array([[455.95854922, -25.90673575, -18.28710759, -12.43523316],\n",
       "       [-25.90673575, 127.73459988, -32.38341969, -22.02072539],\n",
       "       [-18.28710759, -32.38341969,  63.64630582, -15.54404145],\n",
       "       [-12.43523316, -22.02072539, -15.54404145,  29.43005181]])"
      ]
     },
     "execution_count": 39,
     "metadata": {},
     "output_type": "execute_result"
    }
   ],
   "source": [
    "# Inverting the covariance matrix, Numpy Linear algebra (numpy.linalg) is used for solving equations and inverting matrices\n",
    "\n",
    "\"\"\"\"\"\n",
    "The inverse of the covariance matrix,Σ−1, essentially transforms the problem from one of quadratic form (which is more complex to solve directly) to a set of linear equations that can be solved more straightforwardly \n",
    "\"\"\"\"\"\n",
    "Sigma_inv = np.linalg.inv(Sigma)\n",
    "\n",
    "Sigma_inv"
   ]
  },
  {
   "cell_type": "code",
   "execution_count": 40,
   "metadata": {},
   "outputs": [],
   "source": [
    "# Calculating the components of the A matrix\n",
    "a = ones.T @ Sigma_inv @ ones\n",
    "b = b2 = mu.T @ Sigma_inv @ ones  # b and b2 are equal because Sigma is symmetric\n",
    "c = mu.T @ Sigma_inv @ mu"
   ]
  },
  {
   "cell_type": "code",
   "execution_count": 41,
   "metadata": {},
   "outputs": [],
   "source": [
    "A_matrix = np.array([\n",
    "    [a, b],\n",
    "    [b, c]\n",
    "])"
   ]
  },
  {
   "cell_type": "code",
   "execution_count": 42,
   "metadata": {},
   "outputs": [],
   "source": [
    "# Right-hand side of the linear system\n",
    "B = np.array([1, m])"
   ]
  },
  {
   "cell_type": "code",
   "execution_count": 43,
   "metadata": {},
   "outputs": [],
   "source": [
    "# Solving for lambda_1 and lambda_2 using the correct matrix equation AX = B\n",
    "multipliers = np.linalg.solve(A_matrix, B)\n",
    "lambda_1, gamma = multipliers"
   ]
  },
  {
   "cell_type": "code",
   "execution_count": 44,
   "metadata": {},
   "outputs": [],
   "source": [
    "# Computing the optimal weights w*\n",
    "w_star = lambda_1 * Sigma_inv @ ones + gamma * Sigma_inv @ mu"
   ]
  },
  {
   "cell_type": "code",
   "execution_count": 45,
   "metadata": {},
   "outputs": [],
   "source": [
    "# Computing the portfolio risk sigma_pi\n",
    "portfolio_risk = np.sqrt(w_star.T @ Sigma @ w_star)\n"
   ]
  },
  {
   "cell_type": "code",
   "execution_count": 46,
   "metadata": {},
   "outputs": [
    {
     "data": {
      "text/html": [
       "<div>\n",
       "<style scoped>\n",
       "    .dataframe tbody tr th:only-of-type {\n",
       "        vertical-align: middle;\n",
       "    }\n",
       "\n",
       "    .dataframe tbody tr th {\n",
       "        vertical-align: top;\n",
       "    }\n",
       "\n",
       "    .dataframe thead th {\n",
       "        text-align: right;\n",
       "    }\n",
       "</style>\n",
       "<table border=\"1\" class=\"dataframe\">\n",
       "  <thead>\n",
       "    <tr style=\"text-align: right;\">\n",
       "      <th></th>\n",
       "      <th>Optimal Weights</th>\n",
       "    </tr>\n",
       "    <tr>\n",
       "      <th>Asset</th>\n",
       "      <th></th>\n",
       "    </tr>\n",
       "  </thead>\n",
       "  <tbody>\n",
       "    <tr>\n",
       "      <th>Asset A</th>\n",
       "      <td>0.785111</td>\n",
       "    </tr>\n",
       "    <tr>\n",
       "      <th>Asset B</th>\n",
       "      <td>0.053864</td>\n",
       "    </tr>\n",
       "    <tr>\n",
       "      <th>Asset C</th>\n",
       "      <td>0.133555</td>\n",
       "    </tr>\n",
       "    <tr>\n",
       "      <th>Asset D</th>\n",
       "      <td>0.027470</td>\n",
       "    </tr>\n",
       "  </tbody>\n",
       "</table>\n",
       "</div>"
      ],
      "text/plain": [
       "         Optimal Weights\n",
       "Asset                   \n",
       "Asset A         0.785111\n",
       "Asset B         0.053864\n",
       "Asset C         0.133555\n",
       "Asset D         0.027470"
      ]
     },
     "execution_count": 46,
     "metadata": {},
     "output_type": "execute_result"
    }
   ],
   "source": [
    "import pandas as pd\n",
    "\n",
    "Optimal_Weights = pd.DataFrame({\n",
    "    'Asset': assets,\n",
    "    'Optimal Weights': w_star,\n",
    "})\n",
    "\n",
    "# Set the asset names as the index\n",
    "Optimal_Weights.set_index('Asset', inplace=True)\n",
    "\n",
    "Optimal_Weights\n"
   ]
  },
  {
   "cell_type": "code",
   "execution_count": 47,
   "metadata": {},
   "outputs": [
    {
     "name": "stdout",
     "output_type": "stream",
     "text": [
      "The portfolio risk is: 5.84% \n"
     ]
    }
   ],
   "source": [
    "print(f'The portfolio risk is: {round(portfolio_risk,4)*100}% ')"
   ]
  },
  {
   "cell_type": "markdown",
   "metadata": {},
   "source": [
    "The results represent a portfolio optimization solution, where the goal was to find the optimal allocations w∗ of assets that minimize the portfolio's variance while achieving a target return of 4.5%. Asset A: This asset has the highest allocation at approximately 78.51%. This suggests that to achieve the target return with minimal risk, a large proportion of the portfolio should be invested in Asset A which is not surprising given it had a relativly low standard deviation. The risk of the optimized portfolio, given these allocations, is  5.84%. This value is the standard deviation of the portfolio's returns and is a measure of the portfolio's total risk. "
   ]
  },
  {
   "cell_type": "markdown",
   "metadata": {},
   "source": [
    "## Question 1.2\n",
    "\n",
    "Instead of computing other optimal allocations by formula, let’s conduct an experiment.\n",
    "\n",
    "• Generate above 700 random allocation sets: 4 × 1 vectors. Each set has to satisfy the constraint\n",
    "w\n",
    "′1 = 1. In fact, once you generate three random numbers w1, w2, w3, the 4th can be computed.\n",
    "\n",
    "• Weights will not be optimal and can be negative."
   ]
  },
  {
   "cell_type": "code",
   "execution_count": 88,
   "metadata": {},
   "outputs": [],
   "source": [
    "import numpy as np\n",
    "import pandas as pd\n",
    "\n",
    "# Number of random allocation sets to generate\n",
    "num_allocations = 800\n",
    "\n",
    "# Initialize an array to hold the allocation sets\n",
    "allocation_sets = np.zeros((num_allocations, 4))"
   ]
  },
  {
   "cell_type": "code",
   "execution_count": 101,
   "metadata": {},
   "outputs": [],
   "source": [
    "# Generate 800 random allocation sets\n",
    "for i in range(num_allocations):\n",
    "    # Randomly generate the first three weights including negative numbers\n",
    "    w = np.random.uniform(-1, 1, 3)\n",
    "    # Determine the fourth weight such that the sum is 1\n",
    "    w = np.append(w, 1 - np.sum(w))\n",
    "    # Store the allocation set\n",
    "    allocation_sets[i] = w"
   ]
  },
  {
   "cell_type": "code",
   "execution_count": 102,
   "metadata": {},
   "outputs": [
    {
     "data": {
      "text/plain": [
       "array([[ 0.0132485 ,  0.34357828, -0.15605418,  0.7992274 ],\n",
       "       [-0.13099766,  0.38477468, -0.9527614 ,  1.69898438],\n",
       "       [-0.35747484,  0.27768401,  0.90941556,  0.17037527],\n",
       "       [-0.33471804,  0.80568724,  0.32428825,  0.20474255],\n",
       "       [-0.50824768, -0.52357524,  0.09304775,  1.93877516],\n",
       "       [ 0.79665548,  0.84674028, -0.291875  , -0.35152077],\n",
       "       [ 0.26130757,  0.82327882, -0.45359808,  0.36901169],\n",
       "       [-0.35534225,  0.81939774, -0.11127026,  0.64721477],\n",
       "       [-0.42072368,  0.60970357,  0.59764612,  0.21337399],\n",
       "       [-0.5368438 ,  0.7684748 ,  0.96232245, -0.19395344]])"
      ]
     },
     "execution_count": 102,
     "metadata": {},
     "output_type": "execute_result"
    }
   ],
   "source": [
    "# Show the first 10 allocation sets as a sample\n",
    "allocation_sets[:10]"
   ]
  },
  {
   "cell_type": "markdown",
   "metadata": {},
   "source": [
    "• Compute µΠ = w′µ and σΠ =\n",
    "√\n",
    "w′Σw for each set."
   ]
  },
  {
   "cell_type": "code",
   "execution_count": 103,
   "metadata": {},
   "outputs": [],
   "source": [
    "# Initialize arrays to hold the portfolio expected return and standard deviation\n",
    "portfolio_returns = np.zeros(num_allocations)\n",
    "portfolio_std_devs = np.zeros(num_allocations)"
   ]
  },
  {
   "cell_type": "code",
   "execution_count": 104,
   "metadata": {},
   "outputs": [],
   "source": [
    "# Compute expected return and standard deviation for each allocation set\n",
    "for i in range(num_allocations):\n",
    "    w = allocation_sets[i]\n",
    "    portfolio_returns[i] = np.dot(w, mu)\n",
    "    portfolio_std_devs[i] = np.sqrt(np.dot(w.T, np.dot(Sigma, w)))"
   ]
  },
  {
   "cell_type": "code",
   "execution_count": 106,
   "metadata": {},
   "outputs": [],
   "source": [
    "# Combine the results in a df\n",
    "portfolio_metrics = pd.DataFrame({\n",
    "    'Expected Return': portfolio_returns,\n",
    "    'Standard Deviation': portfolio_std_devs\n",
    "})"
   ]
  },
  {
   "cell_type": "code",
   "execution_count": 107,
   "metadata": {},
   "outputs": [
    {
     "data": {
      "text/html": [
       "<div>\n",
       "<style scoped>\n",
       "    .dataframe tbody tr th:only-of-type {\n",
       "        vertical-align: middle;\n",
       "    }\n",
       "\n",
       "    .dataframe tbody tr th {\n",
       "        vertical-align: top;\n",
       "    }\n",
       "\n",
       "    .dataframe thead th {\n",
       "        text-align: right;\n",
       "    }\n",
       "</style>\n",
       "<table border=\"1\" class=\"dataframe\">\n",
       "  <thead>\n",
       "    <tr style=\"text-align: right;\">\n",
       "      <th></th>\n",
       "      <th>Expected Return</th>\n",
       "      <th>Standard Deviation</th>\n",
       "    </tr>\n",
       "  </thead>\n",
       "  <tbody>\n",
       "    <tr>\n",
       "      <th>0</th>\n",
       "      <td>0.160753</td>\n",
       "      <td>0.211244</td>\n",
       "    </tr>\n",
       "    <tr>\n",
       "      <th>1</th>\n",
       "      <td>0.221197</td>\n",
       "      <td>0.373643</td>\n",
       "    </tr>\n",
       "    <tr>\n",
       "      <th>2</th>\n",
       "      <td>0.182776</td>\n",
       "      <td>0.201148</td>\n",
       "    </tr>\n",
       "    <tr>\n",
       "      <th>3</th>\n",
       "      <td>0.139295</td>\n",
       "      <td>0.170203</td>\n",
       "    </tr>\n",
       "    <tr>\n",
       "      <th>4</th>\n",
       "      <td>0.354897</td>\n",
       "      <td>0.452286</td>\n",
       "    </tr>\n",
       "    <tr>\n",
       "      <th>5</th>\n",
       "      <td>-0.038880</td>\n",
       "      <td>0.098516</td>\n",
       "    </tr>\n",
       "    <tr>\n",
       "      <th>6</th>\n",
       "      <td>0.068618</td>\n",
       "      <td>0.136159</td>\n",
       "    </tr>\n",
       "    <tr>\n",
       "      <th>7</th>\n",
       "      <td>0.163003</td>\n",
       "      <td>0.217112</td>\n",
       "    </tr>\n",
       "    <tr>\n",
       "      <th>8</th>\n",
       "      <td>0.166586</td>\n",
       "      <td>0.190241</td>\n",
       "    </tr>\n",
       "    <tr>\n",
       "      <th>9</th>\n",
       "      <td>0.148614</td>\n",
       "      <td>0.195496</td>\n",
       "    </tr>\n",
       "  </tbody>\n",
       "</table>\n",
       "</div>"
      ],
      "text/plain": [
       "   Expected Return  Standard Deviation\n",
       "0         0.160753            0.211244\n",
       "1         0.221197            0.373643\n",
       "2         0.182776            0.201148\n",
       "3         0.139295            0.170203\n",
       "4         0.354897            0.452286\n",
       "5        -0.038880            0.098516\n",
       "6         0.068618            0.136159\n",
       "7         0.163003            0.217112\n",
       "8         0.166586            0.190241\n",
       "9         0.148614            0.195496"
      ]
     },
     "execution_count": 107,
     "metadata": {},
     "output_type": "execute_result"
    }
   ],
   "source": [
    "portfolio_metrics[:10]"
   ]
  },
  {
   "cell_type": "markdown",
   "metadata": {},
   "source": [
    "• Plot points with coordinates µΠ on the vertical axis and σΠ on the horistonal axis.\n",
    "Identify the shape and explain this plot."
   ]
  },
  {
   "cell_type": "code",
   "execution_count": 108,
   "metadata": {},
   "outputs": [
    {
     "data": {
      "image/png": "[encoded data removed]",
      "text/plain": [
       "<Figure size 720x432 with 1 Axes>"
      ]
     },
     "metadata": {
      "needs_background": "light"
     },
     "output_type": "display_data"
    }
   ],
   "source": [
    "import matplotlib.pyplot as plt\n",
    "\n",
    "# Plot the points\n",
    "plt.figure(figsize=(10, 6))\n",
    "plt.scatter(portfolio_std_devs, portfolio_returns, alpha=0.5)\n",
    "plt.title('Risk-Return Plot of Random Portfolio Allocations')\n",
    "plt.xlabel('Portfolio Standard Deviation (σΠ)')\n",
    "plt.ylabel('Expected Portfolio Return (μΠ)')\n",
    "plt.grid(True)\n",
    "\n",
    "# Show the plot\n",
    "plt.show()"
   ]
  },
  {
   "cell_type": "markdown",
   "metadata": {},
   "source": [
    "The plot displays the expected portfolio return (μΠ) on the vertical axis against the portfolio standard deviation (σΠ) on the horizontal axis.\n",
    "\n",
    "Typically, in a risk-return plot like this, you might expect to see a pattern or shape that illustrates the trade-off between risk and return. For well-diversified portfolios, the points often form the upper section of a parabola, known as the efficient frontier, where for any given level of risk, the portfolio on the frontier has the highest expected return.\n",
    "\n",
    "The shape of the plot is roughly elliptical, spreading out mainly along a diagonal line from the bottom left to the top right. This indicates that there is generally a positive relationship between risk and return among these random portfolios: as risk increases, the expected return tends to increase as well. \n",
    "\n",
    "From the plot, we can observe that the points are somewhat scattered, showing that as risk (standard deviation) increases, expected return varies widely due to the randomness of the allocation, including both positive and negative expected returns."
   ]
  },
  {
   "cell_type": "markdown",
   "metadata": {},
   "source": []
  }
 ],
 "metadata": {
  "kernelspec": {
   "display_name": "base",
   "language": "python",
   "name": "python3"
  },
  "language_info": {
   "codemirror_mode": {
    "name": "ipython",
    "version": 3
   },
   "file_extension": ".py",
   "mimetype": "text/x-python",
   "name": "python",
   "nbconvert_exporter": "python",
   "pygments_lexer": "ipython3",
   "version": "3.9.7"
  }
 },
 "nbformat": 4,
 "nbformat_minor": 2
}
